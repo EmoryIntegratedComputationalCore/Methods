{
 "cells": [
  {
   "cell_type": "markdown",
   "metadata": {
    "scrolled": true
   },
   "source": [
    "## RNA-Seq Differential Expression (DE) Analysis Using baySeq\n",
    "Thomas J. Hardcastle (2019). baySeq: Empirical Bayesian analysis of\n",
    "  patterns of differential expression in count data. R package version\n",
    "  2.18.0.\n",
    "The original paper from Hardcastle & Kelly introducing the concepts implemented in this package is available here \n",
    "https://bmcbioinformatics.biomedcentral.com/articles/10.1186/1471-2105-11-422\n",
    "\n",
    "Briefly, baySeq uses empirical Bayesian inference to determine the likelihood that genes in compared samples are indeed DE genes. baySeq seeks to improve accuracy in DE estimation over other popular packages by using the underlying structure of the data itself. baySeq does show improved performance in the case of more complex study designs (i.e. multiple group comparisons) and in studies with large numbers of libraries compared to other popular packages. Here we illustrate a simplified example of a comparison between a control and a treatment group.\n",
    "\n",
    "Imagine you want to place a bet on whether it will rain later today. What kind of information do you think would help you make the most accurate bet, a coin toss or accounting for humidity, cloud cover, or season? Bayesian inference represents the latter."
   ]
  },
  {
   "cell_type": "markdown",
   "metadata": {},
   "source": [
    "###### Definition of terms\n",
    "Bayesian statistics: Learning from experience to make inferences about the relationship between our variables of interest. While the null hypothesis in the frequentist approach (i.e. the use of p values) says that \"there is no relationship\", the Bayesian approach allows us to incorporate previous knowledge we may have about a relationship into future research we want to do on it. The associated credible interval (as compared to the confidence interval) tells us how likely it is that a particular value of interest lies between the prior and posterior estimates of that value. In our example we would interpret this as, given what we know about genetic expression between our control and treatment groups, how likely it is that a certain percentage of genes are DE genes?\n",
    "<br>\n",
    "<br>\n",
    "Prior probability: The information we have about our data before we see it. This could come from what we know about similar experiments or we can estimate it from our data and these options vary in their utility. In our example, this could refer to how likely we think it is that a certain percentage of genes are DE between our control and treatment groups.\n",
    "<br>\n",
    "<br>\n",
    "Posterior probability: The results of incorproating our prior knowledge and our observed data. In our case that means, given that our control and treatment samples have particular genes with particular amounts of expression, how likely it is that a certain percentage of genes between them are DE genes?\n",
    "\n",
    "For more information and the source for these definitions please see \"A Gentle Introduction to Bayesian Analysis\" from Schoot, Kaplan, Denissen, Asendorpf, Neyer, and Aken (Developmental Method, 2013) https://onlinelibrary.wiley.com/doi/full/10.1111/cdev.12169"
   ]
  },
  {
   "cell_type": "markdown",
   "metadata": {},
   "source": [
    "Our very first step is to load the baySeq package from Bioconductor and use an R cluster for the sake of the example. In reality, we would rely on the might of the EICC cluster and this would likely take much less time. Please see http://bioconductor.org/ for information about installation and use of Bioconductor and its packages."
   ]
  },
  {
   "cell_type": "code",
   "execution_count": 17,
   "metadata": {},
   "outputs": [],
   "source": [
    "library(baySeq)\n",
    "if(require(\"parallel\")) cl <- makeCluster(8) else cl <- NULL"
   ]
  },
  {
   "cell_type": "markdown",
   "metadata": {},
   "source": [
    "## Load and our simplified example data \n",
    "Next, we load our data. Our simplified example data come from a theoretically successfully designed and analyzed RNA-seq project which compares a control and a treatment group. There are 13064 genes and we have 6 control samples and 6 treatment samples.Genes with average counts <10 removed. This will vary by experiment.\n",
    "\n",
    "Please reach out to EICC if you would like to compare 3 or more groups as this is a simplified example. It may also be the case you will need more than 6 samples per experimental group or that you may need to remove genes with average counts greater than 5, 10, 15, or even 20 for sufficient statistical power. Please see our PROPER walkthrough for an example of our of power and sample size analysis."
   ]
  },
  {
   "cell_type": "code",
   "execution_count": 36,
   "metadata": {},
   "outputs": [],
   "source": [
    "Data=(\"Counts_GH.csv\")\n",
    "Data2 <- read.matrix(Data, header=TRUE, sep=\",\")"
   ]
  },
  {
   "cell_type": "markdown",
   "metadata": {},
   "source": [
    "## Labelling replicates and specifying our hypothesis\n",
    "<br>\n",
    "After that, we label our samples correctly and specify our hypothesis. \n",
    "\n",
    "In our case, our replicates are organized in our csv file above such that the first 6 columns are control samples and the latter 6 columns are treatment samples. This is how we label the replicates in the model.\n",
    "\n",
    "The groups object specifies our hypothesis. In the null hypothesis of no differential expression (NDE), if all of our samples are 1's, this means that all of the samples belonging to the same group, there is no difference between the 6 controls and 6 treatment samples. In the alternative hypothesis of differential expression, (DE) 1's represent membership in a single group and 2's represent membership in a second group. This set of 6 1's and 6 2's says that there exist two distinct patterns of expression in the control and treatment groups."
   ]
  },
  {
   "cell_type": "code",
   "execution_count": 37,
   "metadata": {},
   "outputs": [],
   "source": [
    "replicates <- c(\"Control\",\"Control\",\"Control\",\"Control\",\"Control\", \"Control\",\n",
    "                \"Treatment\",\"Treatment\",\"Treatment\",\"Treatment\", \"Treatment\", \"Treatment\")\n",
    "\n",
    "groups<- list(NDE = c(1,1,1,1,1,1,1,1,1,1,1,1),\n",
    "               DE = c(1,1,1,1,1,1,2,2,2,2,2,2))"
   ]
  },
  {
   "cell_type": "markdown",
   "metadata": {},
   "source": [
    "## Preparation for Pairwise Differential Expression Analysis\n",
    "In order to perform our pairwise comparison we need to specify some informaton about our data. Replicates and Groups represent the labels for our replicates (Control vs. Treatment) and the null (NDE) and alternative (DE) hypotheses we specified above. We also annotate all 13064 genes with a number to cross-reference with the list of gene names and counts after analysis. Our final preparation step is to get our library size. Sometimes you may already know this but we have inferred it from the data."
   ]
  },
  {
   "cell_type": "code",
   "execution_count": 38,
   "metadata": {},
   "outputs": [],
   "source": [
    "CD <- new(\"countData\", data = Data2, replicates = replicates, groups = groups)\n",
    "CD@annotation <-data.frame(name = paste(\"gene\", 1:13064, sep = \"_\"))\n",
    "libsizes(CD) <- getLibsizes(CD)"
   ]
  },
  {
   "cell_type": "markdown",
   "metadata": {},
   "source": [
    "## Determine prior probabilities\n",
    "<br>\n",
    "We determine the prior probabilities of DE from the count data. Recall that this means we are incorporating some structure inherent in our data to inform the likeliehood that there are DE genes between our two groups. \n",
    "<br>\n",
    "<br>\n",
    "For our simplified example we have chosen to do 10000 bootstrap samples using quasi-likelihood estimation.These parameters will vary by experiment and we would tailor these to your specific project.The length of time that determining the priors and posterior likelihoods will take depends on your computational power, your sample size, the method of estimation, the number of genes, number of samples, and the number of groups you are comparing."
   ]
  },
  {
   "cell_type": "code",
   "execution_count": 39,
   "metadata": {},
   "outputs": [
    {
     "name": "stderr",
     "output_type": "stream",
     "text": [
      "Finding priors...done.\n"
     ]
    },
    {
     "data": {
      "text/plain": [
       "Time difference of 6.114774 mins"
      ]
     },
     "metadata": {},
     "output_type": "display_data"
    }
   ],
   "source": [
    "start_time <- Sys.time()\n",
    "CD <- getPriors.NB(CD, samplesize = 10000, estimation = \"QL\", cl = cl)\n",
    "end_time <- Sys.time()\n",
    "\n",
    "end_time - start_time"
   ]
  },
  {
   "cell_type": "markdown",
   "metadata": {},
   "source": [
    "## Determine posterior likelihoods\n",
    "<br>\n",
    "Next, we determine the posterior likelihood, that is, we are using our prior knowledge and looking at our existing data to estimate how likely is it that there are DE genes between our two groups?\n",
    "\n",
    "We chose to use just 3 bootstrap estimates here in the interest of the accuracy vs. time trade-off. We would assess this parameter based on your specific experiment."
   ]
  },
  {
   "cell_type": "code",
   "execution_count": 40,
   "metadata": {},
   "outputs": [
    {
     "name": "stderr",
     "output_type": "stream",
     "text": [
      "Length of priorReps:10010\n",
      "Length of priorSubset:13064\n",
      "Length of subset:13064\n",
      "Length of postRows:13064\n"
     ]
    },
    {
     "name": "stdout",
     "output_type": "stream",
     "text": [
      "..."
     ]
    },
    {
     "data": {
      "text/plain": [
       "Time difference of 19.37604 mins"
      ]
     },
     "metadata": {},
     "output_type": "display_data"
    }
   ],
   "source": [
    "start_time <- Sys.time()\n",
    "CD <- getLikelihoods(CD, bootStraps = 3, verbose = FALSE, cl = cl)\n",
    "end_time <- Sys.time()\n",
    "end_time - start_time"
   ]
  },
  {
   "cell_type": "markdown",
   "metadata": {},
   "source": [
    "For this simplified example we have simulated the count data such that we know 5% of genes will be DE between the groups and we can check this."
   ]
  },
  {
   "cell_type": "markdown",
   "metadata": {},
   "source": [
    "## Visualization\n",
    "<br>\n",
    "Finally, we can graph what we see. Here is one example of a plot we could make for you called an MA-plot where the x axis is the mean gene expression and the y axis is the log2 transformed fold change. Truly DE genes are in red and non-DE genes are in black."
   ]
  },
  {
   "cell_type": "code",
   "execution_count": 46,
   "metadata": {},
   "outputs": [
    {
     "data": {
      "image/png": "[encoded data removed]",
      "text/plain": [
       "plot without title"
      ]
     },
     "metadata": {},
     "output_type": "display_data"
    }
   ],
   "source": [
    "options(repr.plot.width=5, repr.plot.height=5)\n",
    "plotMA.CD(CD, samplesA = \"Control\", samplesB = \"Treatment\", col = c(rep(\"red\", 100), rep(\"black\", 900)))"
   ]
  },
  {
   "cell_type": "markdown",
   "metadata": {},
   "source": [
    "There are many options for assessing and graphing the results of DE analysis in baySeq.Further, there are many more functions and many more specifications to functions than are used here in order to show a simplified example of one of the tools we use.\n",
    "Obtaining specific, actionable, and publication quality results from analysis requires a deeper understanding of your specific data set and we would love the opportunity to discuss these options with you. \n",
    "\n",
    "While we encourage clients to reach out prior to sequencing so that we can collaborate to design the experiment to answer your specific questions, we look forward to hearing from you at any stage of your RNA-seq project. Please find our contact information available here https://www.cores.emory.edu/eicc/about/index.html"
   ]
  },
  {
   "cell_type": "markdown",
   "metadata": {},
   "source": [
    "Session information available below "
   ]
  },
  {
   "cell_type": "code",
   "execution_count": 47,
   "metadata": {},
   "outputs": [
    {
     "data": {
      "text/plain": [
       "R version 3.6.0 (2019-04-26)\n",
       "Platform: x86_64-w64-mingw32/x64 (64-bit)\n",
       "Running under: Windows 10 x64 (build 18362)\n",
       "\n",
       "Matrix products: default\n",
       "\n",
       "locale:\n",
       "[1] LC_COLLATE=English_United States.1252 \n",
       "[2] LC_CTYPE=English_United States.1252   \n",
       "[3] LC_MONETARY=English_United States.1252\n",
       "[4] LC_NUMERIC=C                          \n",
       "[5] LC_TIME=English_United States.1252    \n",
       "\n",
       "attached base packages:\n",
       "[1] parallel  stats4    stats     graphics  grDevices utils     datasets \n",
       "[8] methods   base     \n",
       "\n",
       "other attached packages:\n",
       " [1] tseries_0.10-47      future_1.14.0        baySeq_2.18.0       \n",
       " [4] abind_1.4-5          GenomicRanges_1.36.0 GenomeInfoDb_1.20.0 \n",
       " [7] IRanges_2.18.1       S4Vectors_0.22.0     BiocGenerics_0.30.0 \n",
       "[10] edgeR_3.26.6         limma_3.40.5         BiocManager_1.30.4  \n",
       "\n",
       "loaded via a namespace (and not attached):\n",
       " [1] Rcpp_1.0.2             pillar_1.4.2           compiler_3.6.0        \n",
       " [4] XVector_0.24.0         xts_0.11-2             base64enc_0.1-3       \n",
       " [7] bitops_1.0-6           tools_3.6.0            zlibbioc_1.30.0       \n",
       "[10] zeallot_0.1.0          digest_0.6.20          uuid_0.1-2            \n",
       "[13] tibble_2.1.3           jsonlite_1.6           evaluate_0.14         \n",
       "[16] lattice_0.20-38        pkgconfig_2.0.2        rlang_0.4.0           \n",
       "[19] IRdisplay_0.7.0        curl_4.0               IRkernel_1.0.2        \n",
       "[22] GenomeInfoDbData_1.2.1 repr_1.0.1             vctrs_0.2.0           \n",
       "[25] globals_0.12.4         locfit_1.5-9.1         grid_3.6.0            \n",
       "[28] listenv_0.7.0          pbdZMQ_0.3-3           TTR_0.23-4            \n",
       "[31] backports_1.1.4        codetools_0.2-16       htmltools_0.3.6       \n",
       "[34] quantmod_0.4-15        quadprog_1.5-7         RCurl_1.95-4.12       \n",
       "[37] crayon_1.3.4           zoo_1.8-6             "
      ]
     },
     "metadata": {},
     "output_type": "display_data"
    }
   ],
   "source": [
    "sessionInfo()"
   ]
  },
  {
   "cell_type": "code",
   "execution_count": null,
   "metadata": {},
   "outputs": [],
   "source": []
  }
 ],
 "metadata": {
  "kernelspec": {
   "display_name": "R",
   "language": "R",
   "name": "ir"
  },
  "language_info": {
   "codemirror_mode": "r",
   "file_extension": ".r",
   "mimetype": "text/x-r-source",
   "name": "R",
   "pygments_lexer": "r",
   "version": "3.6.0"
  }
 },
 "nbformat": 4,
 "nbformat_minor": 2
}
