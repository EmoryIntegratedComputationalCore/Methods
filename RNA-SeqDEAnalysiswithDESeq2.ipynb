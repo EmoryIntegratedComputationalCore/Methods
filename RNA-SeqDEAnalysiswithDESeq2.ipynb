{
 "cells": [
  {
   "cell_type": "markdown",
   "metadata": {},
   "source": [
    "# RNA-seq Differential Expression (DE) Analysis Using DESeq2\n"
   ]
  },
  {
   "cell_type": "markdown",
   "metadata": {},
   "source": [
    " The original paper from Anders & Huber that introduces the concepts implemented in DESeq2 is available here https://genomebiology.biomedcentral.com/articles/10.1186/s13059-014-0550-8Love, M.I., Huber, W., Anders, S. Moderated estimation of fold change\n",
    "  and dispersion for RNA-seq data with DESeq2 Genome Biology 15(12):550\n",
    "  (2014)\n",
    "<br>\n",
    "<br>\n",
    "We will be using the pasilla package for our example data which is cited here.\n",
    " Wolfgang Huber and Alejandro Reyes (2019). pasilla: Data package with\n",
    "  per-exon and per-gene read counts of RNA-seq samples of Pasilla\n",
    "  knock-down by Brooks et al., Genome Research 2011.. R package version\n",
    "  1.12.0.\n",
    "  \n",
    "Data for the package is part of this paper: \n",
    "\"Conservation of an RNA regulatory map between Drosophila and mammals\" by Brooks AN, Yang L, Duff MO, Hansen KD, Park JW, Dudoit S, Brenner SE, Graveley BR, Genome Res. 2011 Feb;21(2):193-202, Epub 2010 Oct 4, PMID: 20921232. \n",
    "\n",
    "Since we will be using the apeglm shrinkage estimator to create our MA plot, I have also cited those authors    \n",
    "Zhu, A., Ibrahim, J.G., Love, M.I. (2018) Heavy-tailed prior distributions for\n",
    "    sequence count data: removing the noise and preserving large differences.\n",
    "    Bioinformatics. https://doi.org/10.1093/bioinformatics/bty895\n",
    "<br>\n",
    "<br>\n",
    "Briefly, DESeq2 uses a Wald test to determine differential gene expression between at least two groups. DESeq2 assumes a negative binomial model which mathematically accounts for the fact that we are assessing gene counts and we are assuming that most genes we are comparing between the groups will not be differentially expressed. \n",
    "\n",
    "Please note that DESeq2 has a number of capabilities that we will not be covering. You can import data for use in DESeq2 in several different ways, there are options for single cell projects, for incorporating Bayesian statistics,  for time-series experiments, for outliers, for obtaining all of the results that DESeq2 functions produce, and even more options for graphing (including an R shiny app we plan to cover in a future walkthrough) so we strongly encourage you to reach out to EICC with questions regarding options available to you with DESeq2."
   ]
  },
  {
   "cell_type": "markdown",
   "metadata": {},
   "source": [
    "###### Definition of terms\n",
    "<br>\n",
    "<br>\n",
    "Wald test: DESeq2 offers two options with how it determines differential expression, the Wald test and the Likelihood Ratio Test. Users of edgeR may be familiar with the latter. In DESeq2, the default test for pairwise comparison analysis is called the Wald Test and it is looking at your control and your experimental samples to see if the difference between them is equal to zero or not. Compared to edgeR it has been our experience that DESeq2 is more liberal in its calling of genes as significantly DE. If you are not sure which or how many DE genes you are expecting to find in your experiment, DESeq2 would likely the best analysis tool for your data.\n",
    "<br>\n",
    "<br>\n",
    "Shrinkage estimator: Shrinkage estimators help us more accurately measure exactly how much the log transformation is condensing the data as it tends to do, especially when there are very small and very large values in one dataset together. Choosing the best estimator to assess this depends on your experimental aims and what you would like to do with your data but picking one is essential for accurately visualizing data analyzed in DESeq2. \n",
    "<br>\n",
    "<br>\n",
    "Unadjusted p values vs adjusted p values/(FDR): In DE analysis, a single p-value tells you how likely it is that a single gene is differentially expressed between at least two groups (ex: a control and a treatment group) due to some actual difference between the groups as opposed to random chance. False Discovery Rate (FDR) tells you how likely it is that all genes identified as DE are false positives. A FDR of 5% means that among all genes called DE, an average of 5% of those are truly not DE. DE genes are only considered significantly so if they meet the adjusted p value, not only the unadjusted p value."
   ]
  },
  {
   "cell_type": "markdown",
   "metadata": {},
   "source": [
    "Our very first step is to load the DESeq2 package and the pasilla package from Bioconductor. Please see http://bioconductor.org/ for information about initial installation and use of Bioconductor and its packages."
   ]
  },
  {
   "cell_type": "code",
   "execution_count": 2,
   "metadata": {},
   "outputs": [],
   "source": [
    "library(\"DESeq2\")\n",
    "library(\"pasilla\")"
   ]
  },
  {
   "cell_type": "markdown",
   "metadata": {},
   "source": [
    "## Load our example data"
   ]
  },
  {
   "cell_type": "markdown",
   "metadata": {},
   "source": [
    "Our example data are from the pasilla package available on Bioconductor. The experiment studied RNAi knockdown of Pasilla, the Drosophila melanogaster ortholog of mammalian NOVA1 and NOVA2, on the transcriptome. Data are provided by NCBI Gene Expression Omnibus under accession numbers GSM461176 to GSM461181.\n",
    "\n",
    "DESeq2 offers many options for importing count data and data about your samples. Here we will demonstrate importing the count matrix and sample data from the pasilla package.\n",
    "\n",
    "Please reach out to EICC if you would like to compare 3 or more groups as this is a simplified example. It may also be the case you will need more than 6 samples per experimental group or that you may need to remove genes with average counts greater than 5, 10, 15, or even 20 for sufficient statistical power. Please see our PROPER walkthrough for an example of our of power and sample size analysis."
   ]
  },
  {
   "cell_type": "markdown",
   "metadata": {},
   "source": [
    "#### Load the counts"
   ]
  },
  {
   "cell_type": "code",
   "execution_count": 3,
   "metadata": {},
   "outputs": [],
   "source": [
    "countdata <- system.file(\"extdata\",\n",
    "                      \"pasilla_gene_counts.tsv\",\n",
    "                      package=\"pasilla\", mustWork=TRUE)\n",
    "\n",
    "countdata <- as.matrix(read.csv(countdata,sep=\",",row.names=\"gene_id\"))"
   ]
  },
  {
   "cell_type": "markdown",
   "metadata": {},
   "source": [
    "#### Load the sample data "
   ]
  },
  {
   "cell_type": "markdown",
   "metadata": {},
   "source": [
    "Next, we import any information we have about our samples. At a minimum, this typically includes a sample id and a group variable though ideally you would include as much information as is available about your samples. \n",
    "\n",
    "In our case we have an ID variable, a condition variable that denotes being either a treated or an untreated sample, and a type variable that denotes if the sample is paired-end or single-read."
   ]
  },
  {
   "cell_type": "code",
   "execution_count": 4,
   "metadata": {},
   "outputs": [],
   "source": [
    "sampledata <- system.file(\"extdata\",\n",
    "                       \"pasilla_sample_annotation.csv\",\n",
    "                       package=\"pasilla\", mustWork=TRUE)\n",
    "\n",
    "sampledata <- read.csv(sampledata, row.names=1)\n",
    "sampledata <- sampledata[,c(\"condition\",\"type\")]"
   ]
  },
  {
   "cell_type": "markdown",
   "metadata": {},
   "source": [
    "Our data is almost ready to analyze but first we have to check that the\n",
    "column names of our count data are the same as the row names of our sample data. If this is not true, we cannot proceed."
   ]
  },
  {
   "cell_type": "code",
   "execution_count": 5,
   "metadata": {},
   "outputs": [
    {
     "data": {
      "text/html": [
       "FALSE"
      ],
      "text/latex": [
       "FALSE"
      ],
      "text/markdown": [
       "FALSE"
      ],
      "text/plain": [
       "[1] FALSE"
      ]
     },
     "metadata": {},
     "output_type": "display_data"
    }
   ],
   "source": [
    "all(rownames(sampledata) %in% colnames(countdata))"
   ]
  },
  {
   "cell_type": "markdown",
   "metadata": {},
   "source": [
    "Since this is FALSE, we have to make some adjustments to the data by setting the row names of the sample data to be the same as the row names of the sample data while also removing the extra \"fb\" so that the names are the same. \n",
    "\n",
    "We use the all statement to check that this has fixed the problem."
   ]
  },
  {
   "cell_type": "code",
   "execution_count": 6,
   "metadata": {},
   "outputs": [
    {
     "data": {
      "text/html": [
       "TRUE"
      ],
      "text/latex": [
       "TRUE"
      ],
      "text/markdown": [
       "TRUE"
      ],
      "text/plain": [
       "[1] TRUE"
      ]
     },
     "metadata": {},
     "output_type": "display_data"
    }
   ],
   "source": [
    "rownames(sampledata) <- sub(\"fb\", \"\", rownames(sampledata))\n",
    "countdata <- countdata[, rownames(sampledata)]\n",
    "all(rownames(sampledata) == colnames(countdata))"
   ]
  },
  {
   "cell_type": "markdown",
   "metadata": {},
   "source": [
    "Now that the above is TRUE, we can proceed with more specific preparation for analysis"
   ]
  },
  {
   "cell_type": "markdown",
   "metadata": {},
   "source": [
    "## Preparation for Pairwise Differential Expression Analysis"
   ]
  },
  {
   "cell_type": "markdown",
   "metadata": {},
   "source": [
    "In order to preform a pairwise comparison we need to specify some information about our data. In DESeq2 we must create a special object called a DESeqdataset object, here abbreviated as dds. This object takes in the countdata, the sample data, and the variable we would like to compare between the samples as inputs. \n",
    "\n",
    "Next, we specify that the untreated group is our reference group to which we would like to compare our treated samples."
   ]
  },
  {
   "cell_type": "code",
   "execution_count": 7,
   "metadata": {},
   "outputs": [],
   "source": [
    "dds <- DESeqDataSetFromMatrix(countData = countdata,\n",
    "                              colData = sampledata,\n",
    "                              design = ~ condition)\n",
    "\n",
    "dds$condition <- relevel(dds$condition, ref = \"untreated\")"
   ]
  },
  {
   "cell_type": "markdown",
   "metadata": {},
   "source": [
    "If we had any additional data to add about the samples that we wanted to include in our analysis we would add it next but since this is a simplified example, we are only comparing treated and control samples without taking into account any additional information about them."
   ]
  },
  {
   "cell_type": "markdown",
   "metadata": {},
   "source": [
    "#### Prefilter genes with low counts\n",
    "Typically we want to ignore genes that have counts of zero across all samples since these are adding statistical noise. We may also want to be more stringent and remove genes with rows that sum to 10, 20 or even 30 or less since these could also be contributing noise. \n",
    "\n",
    "DESeq2 will also filter genes it deems as low counts automatically when we view the results of our analysis later on. The results will tell you how many genes were removed and how many remain. If you would like to specify your own cut-offs for filtering or if you do not want DESeq2 to do any additional filteirng, you also have those options. \n",
    "\n",
    "For this example, we will remove all genes with counts fewer than 10 across all samples and let DESeq2 choose to do any additional filtering as it sees fit. If you choose to do DE analysis through EICC we would customize this part of the analysis based on your data."
   ]
  },
  {
   "cell_type": "code",
   "execution_count": 8,
   "metadata": {},
   "outputs": [],
   "source": [
    "keep <- rowSums(counts(dds)) >= 10\n",
    "dds <- dds[keep,]"
   ]
  },
  {
   "cell_type": "markdown",
   "metadata": {},
   "source": [
    "### Use the DESeq2 analysis pipeline on DESeq2 dataset object\n",
    "\n",
    "DESeq2's analysis step is quite neat as compared to the analysis steps of edgeR and baySeq. It will tell you the steps it is taking with your data and you have the option to ask for additional output and customizations but the default analysis explained here and in the walkthrough from package authors makes those choices behind the scenes. \n",
    "\n",
    "Finally, we create our results with the results function and use the summary function to see a tabular summary of them. The summary gives you information about the total number of genes with nonzero read counts, the adjusted p value it used to determine significantly DE genes (default is 0.1 but this can be changed in the DESeq function), the exact number and total percentage of the up and down regulated DE genes, the presence of any outliers, and the removal of any additional genes with low counts."
   ]
  },
  {
   "cell_type": "code",
   "execution_count": 9,
   "metadata": {},
   "outputs": [
    {
     "name": "stderr",
     "output_type": "stream",
     "text": [
      "estimating size factors\n",
      "estimating dispersions\n",
      "gene-wise dispersion estimates\n",
      "mean-dispersion relationship\n",
      "final dispersion estimates\n",
      "fitting model and testing\n"
     ]
    },
    {
     "name": "stdout",
     "output_type": "stream",
     "text": [
      "\n",
      "out of 9921 with nonzero total read count\n",
      "adjusted p-value < 0.1\n",
      "LFC > 0 (up)       : 518, 5.2%\n",
      "LFC < 0 (down)     : 536, 5.4%\n",
      "outliers [1]       : 1, 0.01%\n",
      "low counts [2]     : 1539, 16%\n",
      "(mean count < 6)\n",
      "[1] see 'cooksCutoff' argument of ?results\n",
      "[2] see 'independentFiltering' argument of ?results\n",
      "\n"
     ]
    }
   ],
   "source": [
    "dds <- DESeq(dds)\n",
    "res <- results(dds)\n",
    "summary(res)"
   ]
  },
  {
   "cell_type": "markdown",
   "metadata": {},
   "source": [
    "In our simplified example we see that controlling the adjustedp/FDR threshold at <0.1, we have 1,054 (10.6%) DE genes. Of these, 518 (5.2%) are up regulated and 536 (5.4%) are down regulated. There was 1 outlier gene (0.01%) detected and 1539 genes (16%) with low counts were removed for having counts <6 across all samples. You can view additional explanations of the way outliers are determined and how the filtering was determined by typing ?results. \n",
    "\n",
    "If your experimental design included a FDR<0.1 you can export your results here\n",
    "and there are options for exporting results including ordering by smallest adjusted p value/FDR for convenience. \n",
    "\n",
    "Since our aim in doing DE analysis in this example is to have a list of genes to follow up on with lab tests, we might want to use a more stringent significance threshold so instead of 0.1, we will look at those genes with FDR<0.01 and order our results based on smallest adjusted p value/FDR for convenience.\n",
    "\n",
    "Being able to be more strict with your threshold than you originally intended is usually good and is typically a sign that your study was well powered. It is much better to have the option to lower your threshold further rather than have to increase it because you did not find anything at the threshold you had specified in your initial experimental design. Please reach out to us at EICC if you would like assistance in planning your experimental design for your RNAseq project and in setting appropriate FDR thresholds."
   ]
  },
  {
   "cell_type": "code",
   "execution_count": 10,
   "metadata": {},
   "outputs": [
    {
     "data": {
      "text/html": [
       "572"
      ],
      "text/latex": [
       "572"
      ],
      "text/markdown": [
       "572"
      ],
      "text/plain": [
       "[1] 572"
      ]
     },
     "metadata": {},
     "output_type": "display_data"
    }
   ],
   "source": [
    "sum(res$padj < 0.01, na.rm=TRUE)\n",
    "resOrdered <- res[order(res$pvalue),]"
   ]
  },
  {
   "cell_type": "markdown",
   "metadata": {},
   "source": [
    "Our more stringent cutoff has left us with 572 significantly DE genes in the treated samples as compared to the control samples. We could follow up with these with pathway analysis and/or with lab based tests."
   ]
  },
  {
   "cell_type": "markdown",
   "metadata": {},
   "source": [
    "DESeq2 is able to handle pairwise comparisons as well as comparisons of multiple groups while accounting for any number of prespecified covariates or other variables of interest like sex, age, ethnicity, or batch effects. Here we will illustrate a simplified example of a comparison of a control group and a treatment group.If you had an RNA-seq project with EICC this is when we would export the results in a spreadsheet for you. \n",
    "\n",
    "We customize our analysis based on your data. If you wanted to assess the effects of interactions or look at time-series experiments, this is the point in the analysis that we would do that. DEseq2 is a very flexible package and if you think your project might benefit from analysis with it, we encourage you to contact EICC."
   ]
  },
  {
   "cell_type": "markdown",
   "metadata": {},
   "source": [
    "# Visualization\n",
    "\n",
    "DESeq2 offers a number of visualization options to assess your findings and below we have summarized a few examples available to you.\n",
    "\n",
    "Log transforming counts is essential for plotting principal components and examining sample to sample distances, among other graphs. DESeq2 offers many options for log transformation and all account for the variance in the data to ensure that noise in the data is not contributing to how it graphs. The vst function is the fastest function so for this example we will show just this function. Note that log transformed count data is specifically for graphing only."
   ]
  },
  {
   "cell_type": "markdown",
   "metadata": {},
   "source": [
    "###### Checking the variance across samples"
   ]
  },
  {
   "cell_type": "markdown",
   "metadata": {},
   "source": [
    "To make sure that analysis so far has estimated variance correctly, we should check the variance across samples using the plotDispEsts function. Here we have colored the genes blue, the estimated fit line red, and the actual fit line black. With fewer counts for a given gene, we would expect to see more variation due to noise and we are attempting to account for that."
   ]
  },
  {
   "cell_type": "code",
   "execution_count": 11,
   "metadata": {},
   "outputs": [
    {
     "data": {
      "image/png": "iVBORw0KGgoAAAANSUhEUgAAAtAAAAJYCAMAAAB8aiEbAAAAPFBMVEUAAAAAAP9NTU1oaGh4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\nJQANsRKAhlgJQEOsBKAhVgLQECv9H4i6U0V9DXZdAAAAAElFTkSuQmCC",
      "text/plain": [
       "plot without title"
      ]
     },
     "metadata": {},
     "output_type": "display_data"
    }
   ],
   "source": [
    "options(repr.plot.width=6, repr.plot.height=5)\n",
    "plotDispEsts(dds, CV=\"TRUE\", genecol=\"blue\", fitcol=\"red\", finalcol=\"black\" )"
   ]
  },
  {
   "cell_type": "markdown",
   "metadata": {},
   "source": [
    "As we see,  in the graph, our variation appears to be stable and as we might expect, as we have higher mean counts, the variation between the samples decreases. If you are checking your own data and do not see a trend like this, do not hesitate to reach out to EICC with questions."
   ]
  },
  {
   "cell_type": "markdown",
   "metadata": {},
   "source": [
    "###### Log transformation with vst"
   ]
  },
  {
   "cell_type": "markdown",
   "metadata": {},
   "source": [
    "Now we use the vst function to perform a simple log transformation of the samples while maintaining that stable variance. Since we do not need to re-estimate dispersion, we set blind=False. The data transformed by vst will only be used for visualization of clustering results. "
   ]
  },
  {
   "cell_type": "code",
   "execution_count": 12,
   "metadata": {},
   "outputs": [],
   "source": [
    "restransf<-vst(dds, blind=FALSE)"
   ]
  },
  {
   "cell_type": "markdown",
   "metadata": {},
   "source": [
    "###### Log transformation with shrinkage estimation"
   ]
  },
  {
   "cell_type": "markdown",
   "metadata": {},
   "source": [
    "Log transformation using a shrinkage estimator is the first step to generating interpretable MA plots. In DESeq2's case, you perform this transformation on the DESeq2 dataset object (dds) and specify your outcome of interest and the type of shrinkage estimator you would like to use. \n",
    "\n",
    "First, we have to get the names of the results in our DESeq2 dataset by calling the results names function. Next, we use the lfcShrink function to perform the transformation. We specify we want to transform the dds object, and we needed the names to specify the second argument, coef=, and this is set to two because our comparison of interest for these graphs is the second name listed, the 'condition_treated_vs_untreated' comparison. We could also have said coef='condition_treated_vs_untreated'. \n",
    "\n",
    "Next, we specify the type of shrinkage estimator to use. Recall that shrinkage estimators help us more accurately measure exactly how much the log transformation is condensing the data as it tends to do, especially when there are very small and very large values in one dataset together. You can see in the plot of the variance above that there is a line of genes with very very small log transformed counts toward the bottom of the graph. By default this is set to \"normal\" but here we have chosen \"apeglm\" to account for these genes with low counts. \n",
    "\n",
    "Unlike the default normal setting, apeglm preserves the size of large log fold changes rather than condensing them as would be typical with log transformation and it computes s-values which are the DESeq2 equivalent of q-values explored in our \"False Discovery Rate Estimation with qvalue\" walkthrough.The s-values here (called with svalue=TRUE) tell us how likely it is that a given DE gene is a false positive finding and this will help us narrow down which we would like to follow up with in the lab. "
   ]
  },
  {
   "cell_type": "code",
   "execution_count": 13,
   "metadata": {},
   "outputs": [
    {
     "data": {
      "text/html": [
       "<ol class=list-inline>\n",
       "\t<li>'Intercept'</li>\n",
       "\t<li>'condition_treated_vs_untreated'</li>\n",
       "</ol>\n"
      ],
      "text/latex": [
       "\\begin{enumerate*}\n",
       "\\item 'Intercept'\n",
       "\\item 'condition\\_treated\\_vs\\_untreated'\n",
       "\\end{enumerate*}\n"
      ],
      "text/markdown": [
       "1. 'Intercept'\n",
       "2. 'condition_treated_vs_untreated'\n",
       "\n",
       "\n"
      ],
      "text/plain": [
       "[1] \"Intercept\"                      \"condition_treated_vs_untreated\""
      ]
     },
     "metadata": {},
     "output_type": "display_data"
    },
    {
     "name": "stderr",
     "output_type": "stream",
     "text": [
      "using 'apeglm' for LFC shrinkage. If used in published research, please cite:\n",
      "    Zhu, A., Ibrahim, J.G., Love, M.I. (2018) Heavy-tailed prior distributions for\n",
      "    sequence count data: removing the noise and preserving large differences.\n",
      "    Bioinformatics. https://doi.org/10.1093/bioinformatics/bty895\n"
     ]
    }
   ],
   "source": [
    "resultsNames(dds)\n",
    "resLFC <- lfcShrink(dds, coef=2, type=\"apeglm\", svalue=TRUE)"
   ]
  },
  {
   "cell_type": "markdown",
   "metadata": {},
   "source": [
    "##### PCA plot\n",
    "\n",
    "To see how much membership in either the control or treatment group contributes to the differences in their genetic expression, we use a PCA plot. "
   ]
  },
  {
   "cell_type": "code",
   "execution_count": 14,
   "metadata": {},
   "outputs": [
    {
     "data": {
      "image/png": "iVBORw0KGgoAAAANSUhEUgAAAtAAAALQCAMAAACOibeuAAAARVBMVEUAAAAAv8QzMzNNTU1o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\nhlD8H9QJKQke3a3OAAAAAElFTkSuQmCC",
      "text/plain": [
       "plot without title"
      ]
     },
     "metadata": {},
     "output_type": "display_data"
    }
   ],
   "source": [
    "options(repr.plot.width=6, repr.plot.height=6)\n",
    "plotPCA(restransf, intgroup=c(\"condition\", \"type\"))"
   ]
  },
  {
   "cell_type": "markdown",
   "metadata": {},
   "source": [
    "Here we see that 58% of the differences between the samples is due to the fact that there are some true differences in expression between the treated and untreated samples. Since we also had information on whether these were paired-end or single-read samples, we see that only 29% of the differences between the samples is due to being either a paired-end or single-read sample.\n",
    "\n",
    "This is a great looking PCA plot because it shows that it is our experimental condition that is largely responsible for the variation between the samples rather than noise generated by sequencing, analysis, or some other unaccounted for variable. Since we have additional data on the type of samples sequenced, we can see that this did not affect the differences between the samples to any large extent. "
   ]
  },
  {
   "cell_type": "markdown",
   "metadata": {},
   "source": [
    "##### MA plot\n",
    "\n",
    "The MA plot shows us the condensed log2 fold changes without the noise generated by genes with low counts."
   ]
  },
  {
   "cell_type": "code",
   "execution_count": 15,
   "metadata": {},
   "outputs": [
    {
     "name": "stderr",
     "output_type": "stream",
     "text": [
      "thresholding s-values on alpha=0.005 to color points\n"
     ]
    },
    {
     "data": {
      "image/png": "iVBORw0KGgoAAAANSUhEUgAAAlgAAAJYCAMAAACJuGjuAAAAP1BMVEUAAABNTU1SUlJoaGh8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\nLCDC/wEnc+ww8poXuwAAAABJRU5ErkJggg==",
      "text/plain": [
       "Plot with title \"DE genes between Groups\""
      ]
     },
     "metadata": {},
     "output_type": "display_data"
    }
   ],
   "source": [
    "options(repr.plot.width=5, repr.plot.height=5)\n",
    "plotMA(resLFC,ylim=c(-4,4), main=\"DE genes between Groups\")"
   ]
  },
  {
   "cell_type": "markdown",
   "metadata": {},
   "source": [
    "We see that since we specified svalue=TRUE, it has used the alpha=0.005 threshold for significance to color DE genes as red and non-DE genes as grey. Outlier genes with -4 log2 fold changes are displayed as red triangles"
   ]
  },
  {
   "cell_type": "markdown",
   "metadata": {},
   "source": [
    "There are many more functions and many more specifications to functions than are used here in order to show a simplified example of one of the tools we use for differential expression analysis. Obtaining specific, actionable, and publication quality results from analysis requires a deeper understanding of your specific data set and we would love the opportunity to discuss these options with you.\n",
    "\n",
    "While we encourage clients to reach out prior to sequencing so that we can collaborate to design the experiment to answer your specific questions, we look forward to hearing from you at any stage of your RNAseq project. Please find our contact information available here https://www.cores.emory.edu/eicc/about/index.html"
   ]
  },
  {
   "cell_type": "code",
   "execution_count": 16,
   "metadata": {},
   "outputs": [
    {
     "data": {
      "text/plain": [
       "R version 3.6.0 (2019-04-26)\n",
       "Platform: x86_64-w64-mingw32/x64 (64-bit)\n",
       "Running under: Windows 10 x64 (build 18362)\n",
       "\n",
       "Matrix products: default\n",
       "\n",
       "locale:\n",
       "[1] LC_COLLATE=English_United States.1252 \n",
       "[2] LC_CTYPE=English_United States.1252   \n",
       "[3] LC_MONETARY=English_United States.1252\n",
       "[4] LC_NUMERIC=C                          \n",
       "[5] LC_TIME=English_United States.1252    \n",
       "\n",
       "attached base packages:\n",
       "[1] parallel  stats4    stats     graphics  grDevices utils     datasets \n",
       "[8] methods   base     \n",
       "\n",
       "other attached packages:\n",
       " [1] pasilla_1.12.0              DESeq2_1.24.0              \n",
       " [3] SummarizedExperiment_1.14.1 DelayedArray_0.10.0        \n",
       " [5] BiocParallel_1.18.1         matrixStats_0.55.0         \n",
       " [7] Biobase_2.44.0              GenomicRanges_1.36.0       \n",
       " [9] GenomeInfoDb_1.20.0         IRanges_2.18.1             \n",
       "[11] S4Vectors_0.22.0            BiocGenerics_0.30.0        \n",
       "\n",
       "loaded via a namespace (and not attached):\n",
       " [1] bit64_0.9-7            jsonlite_1.6           splines_3.6.0         \n",
       " [4] Formula_1.2-3          assertthat_0.2.1       latticeExtra_0.6-28   \n",
       " [7] blob_1.2.0             GenomeInfoDbData_1.2.1 numDeriv_2016.8-1.1   \n",
       "[10] RSQLite_2.1.2          pillar_1.4.2           backports_1.1.4       \n",
       "[13] lattice_0.20-38        glue_1.3.1             bbmle_1.0.20          \n",
       "[16] uuid_0.1-2             digest_0.6.20          RColorBrewer_1.1-2    \n",
       "[19] XVector_0.24.0         checkmate_1.9.4        colorspace_1.4-1      \n",
       "[22] plyr_1.8.4             htmltools_0.3.6        Matrix_1.2-17         \n",
       "[25] XML_3.98-1.20          pkgconfig_2.0.2        emdbook_1.3.11        \n",
       "[28] genefilter_1.66.0      zlibbioc_1.30.0        purrr_0.3.2           \n",
       "[31] xtable_1.8-4           scales_1.0.0           apeglm_1.6.0          \n",
       "[34] htmlTable_1.13.1       tibble_2.1.3           annotate_1.62.0       \n",
       "[37] ggplot2_3.2.1          repr_1.0.1             nnet_7.3-12           \n",
       "[40] lazyeval_0.2.2         survival_2.44-1.1      magrittr_1.5          \n",
       "[43] crayon_1.3.4           memoise_1.1.0          evaluate_0.14         \n",
       "[46] MASS_7.3-51.4          foreign_0.8-72         tools_3.6.0           \n",
       "[49] data.table_1.12.2      stringr_1.4.0          locfit_1.5-9.1        \n",
       "[52] munsell_0.5.0          cluster_2.1.0          AnnotationDbi_1.46.1  \n",
       "[55] compiler_3.6.0         rlang_0.4.0            grid_3.6.0            \n",
       "[58] RCurl_1.95-4.12        pbdZMQ_0.3-3           IRkernel_1.0.2        \n",
       "[61] rstudioapi_0.10        htmlwidgets_1.3        labeling_0.3          \n",
       "[64] bitops_1.0-6           base64enc_0.1-3        gtable_0.3.0          \n",
       "[67] DBI_1.0.0              R6_2.4.0               gridExtra_2.3         \n",
       "[70] knitr_1.24             dplyr_0.8.3            zeallot_0.1.0         \n",
       "[73] bit_1.1-14             Hmisc_4.2-0            stringi_1.4.3         \n",
       "[76] IRdisplay_0.7.0        Rcpp_1.0.2             geneplotter_1.62.0    \n",
       "[79] vctrs_0.2.0            rpart_4.1-15           acepack_1.4.1         \n",
       "[82] coda_0.19-3            tidyselect_0.2.5       xfun_0.9              "
      ]
     },
     "metadata": {},
     "output_type": "display_data"
    }
   ],
   "source": [
    "sessionInfo()"
   ]
  },
  {
   "cell_type": "code",
   "execution_count": null,
   "metadata": {},
   "outputs": [],
   "source": []
  }
 ],
 "metadata": {
  "kernelspec": {
   "display_name": "R",
   "language": "R",
   "name": "ir"
  },
  "language_info": {
   "codemirror_mode": "r",
   "file_extension": ".r",
   "mimetype": "text/x-r-source",
   "name": "R",
   "pygments_lexer": "r",
   "version": "3.6.0"
  }
 },
 "nbformat": 4,
 "nbformat_minor": 2
}
