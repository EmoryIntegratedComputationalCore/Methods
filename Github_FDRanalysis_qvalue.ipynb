{
 "cells": [
  {
   "cell_type": "markdown",
   "metadata": {},
   "source": [
    "# Estimation of False Discovery Rate with qvalue \n",
    "John D. Storey, Andrew J. Bass, Alan Dabney and David Robinson\n",
    "  (2019). qvalue: Q-value estimation for false discovery rate control.\n",
    "  R package version 2.16.0. http://github.com/jdstorey/qvalue\n",
    "<br>\n",
    "The original paper from Storey and Tibshirani introducing the concepts implemented in this package is available here https://www.pnas.org/content/100/16/9440\n",
    "<br>\n",
    "<br>\n",
    "Briefly, qvalue takes in p-values and adjusts them to account for the multiple hypothesis tests. If you are new to multiple hypothesis testing, check out this article from Noble (2009) for a succint overview of the concept. \n",
    "https://www.nature.com/articles/nbt1209-1135\n",
    "<br>\n",
    "<br>\n",
    "Multiple hypothesis testing is inherent to RNA-seq differential expression (DE) analysis and we will use this example to illustrate how we use qvalue to provide actionable results to our clients."
   ]
  },
  {
   "cell_type": "markdown",
   "metadata": {},
   "source": [
    "###### Definition of terms\n",
    "Accurate interpretation of unadjusted p-values assumes that each gene is assessed for DE on its own. However, most RNA-seq experiments assess more than one gene at a time. In order to  account for the number of genes we are testing, we must calculate and interpret the adjusted p-value for each gene. \n",
    "<br>\n",
    "<br>\n",
    "In DE analysis, a single p-value tells you how likely it is that a single gene is differentially expressed between at least two groups (ex: a control and a treatment group) due to some actual difference between the groups as opposed to random chance. \n",
    "<br>\n",
    "<br>\n",
    "False Discovery Rate (FDR) tells you how likely it is that all genes identified as DE are false positives. A FDR of 5% means that among all genes called DE, an average of 5% of those are truly not DE. The q-value is the significance threshold adjusted for the fact that we have assessed muliple genes."
   ]
  },
  {
   "cell_type": "markdown",
   "metadata": {},
   "source": [
    "Our very first step is to load the qvalue package rom Bioconductor. Please see http://bioconductor.org/ for information about installation and use of Bioconductor and its packages."
   ]
  },
  {
   "cell_type": "code",
   "execution_count": 9,
   "metadata": {},
   "outputs": [],
   "source": [
    "library(qvalue)"
   ]
  },
  {
   "cell_type": "markdown",
   "metadata": {},
   "source": [
    "## Loading p-values\n",
    "qvalue gives us a few options for calculating q-values but to keep our example simplified we import a table of p-values from a t-test conducted on RNA-seq count data."
   ]
  },
  {
   "cell_type": "code",
   "execution_count": 2,
   "metadata": {},
   "outputs": [],
   "source": [
    "pvals=(\"GH_pvals.csv\")\n",
    "pvalues <- read.table(pvals, header=TRUE, sep=\",\")\n",
    "pvalues <- pvalues$P"
   ]
  },
  {
   "cell_type": "markdown",
   "metadata": {},
   "source": [
    "## Checking assumptions\n",
    "<br>\n",
    "Next, we check out the histogram of the p-values. This allows us to examine the distribution of the p-values and check the package's assumption that they should be relatively uniform. This means they will look like one big slope with a high frequency of values of 0.0 (left side) and lower and lower values towards the right of the graph. \n",
    "<br>\n",
    "<br>\n",
    "If this assumption is not met and your p-values look like a U shape, sine curve, or any other funky thing, this package will provide you with faulty analysis if you do not do something to make that assumption hold. Please contact EICC and depending on why your p-values are looking unusual we may be able to fix it for you."
   ]
  },
  {
   "cell_type": "code",
   "execution_count": 3,
   "metadata": {
    "scrolled": false
   },
   "outputs": [
    {
     "data": {
      "image/png": "[encoded data removed]",
      "text/plain": [
       "Plot with title \"Histogram of pvalues\""
      ]
     },
     "metadata": {},
     "output_type": "display_data"
    }
   ],
   "source": [
    "options(repr.plot.width=2.5, repr.plot.height=2.5)\n",
    "hist(pvalues, nclass=20)"
   ]
  },
  {
   "cell_type": "markdown",
   "metadata": {},
   "source": [
    "In our simplified example, the p-values satisfy our assumption. The histogram has a lovely slope down from 0.0. We can safely move on."
   ]
  },
  {
   "cell_type": "markdown",
   "metadata": {},
   "source": [
    "# Creating the qvalue object\n",
    "\n",
    "Next, we create the qvalue object. qvalue gives us many options to do this. These all matter and all vary by project as to which are appropriate, the default options are not going to work for everyone, if anyone. \n",
    "<br>\n",
    "<br>\n",
    "For this example we have done our literature review and decided (prior to running our sequencing) that we are comfortable with FDR of 0.1 (10%). Recall that this means that of all genes called DE, an average of 10% of those are false positives. In our case this would mean if we have 100 genes that are called DE, we are comfortable with up to 10 of them being false positives. This is the assumption that a popular DE analysis package, edgeR, makes and the accuracy of the results you get from edgeR depend on these assumptions."
   ]
  },
  {
   "cell_type": "markdown",
   "metadata": {},
   "source": [
    "###### Control vs. Estimation of FDR\n",
    "<br>\n",
    "In controlling FDR, you set a FDR you are comfortable with a priori, you run your sequencing, you do your pairwise comparisons, and you see which genes meet that pre-specified FDR threshold. In estimating FDR, you run your sequencing, do your pairwise comparisons tests, and afterwards, you specify how comfortable you are with the possibility that a gene or group of genes which have been called DE is/are false positives.\n",
    "<br>\n",
    "<br>\n",
    "Estimating FDR means that you run the risk of missing DE genes you may be interested in investivating. Controlling FDR means that you may have more genes identifed as DE than you can make sense of and many of them may be false positives. The choice you make depends on whether your experiment is exploratory or looking to assess one or a group of genes in particular. EICC would be happy to work with you to design your experiment to meet your goals."
   ]
  },
  {
   "cell_type": "code",
   "execution_count": 4,
   "metadata": {},
   "outputs": [],
   "source": [
    "qobj<-qvalue(p=pvalues, fdr.level=0.05, lambda=0, pi0.method=\"smoother\")"
   ]
  },
  {
   "cell_type": "markdown",
   "metadata": {},
   "source": [
    "## Summarizing Results\n",
    "<br>\n",
    "Below is a summary of some of the information available to us in the qvalue object."
   ]
  },
  {
   "cell_type": "code",
   "execution_count": 5,
   "metadata": {},
   "outputs": [
    {
     "name": "stdout",
     "output_type": "stream",
     "text": [
      "\n",
      "Call:\n",
      "qvalue(p = pvalues, fdr.level = 0.05, lambda = 0, pi0.method = \"smoother\")\n",
      "\n",
      "pi0:\t1\t\n",
      "\n",
      "Cumulative number of significant calls:\n",
      "\n",
      "          <1e-04 <0.001 <0.01 <0.025 <0.05 <0.1    <1\n",
      "p-value     1113   2721  5249   6623  7735 8960 14527\n",
      "q-value       24    911  3666   5058  6413 7874 14527\n",
      "local FDR     29    481  2155   3263  4092 5089  9496\n",
      "\n"
     ]
    }
   ],
   "source": [
    "summary(qobj)"
   ]
  },
  {
   "cell_type": "markdown",
   "metadata": {},
   "source": [
    "From this summary we see that at our pre-specified FDR of 0.1 we determine that all genes with q-values less than or equal to 0.1 are significant. This gives us 7874 significant genes with the understanding that up to 787 DE genes are false positives. \n",
    "<br>\n",
    "<br>\n",
    "Controlling FDR gave us a large number of genes to investigate further. We decided that we would risk up to 10% of these being false positives if we could find as many DE genes as possible. We do not know how likely it is that any one of the genes we found is a false positive but we know it could be any or all 787 of them.\n",
    "<br>\n",
    "<br>\n",
    "If we had decided at the beginning to estimate FDR, we could have used the q-value of <0.001 and had a list of 911 genes to follow up on along with an estimate of how likely it is that each gene is a false positive, and comfortable with up to 9 of them being false positives.\n",
    "<br>\n",
    "<br>\n",
    "This choice of controlling or estimating FDR is one EICC is happy to help you make to get the most actionable results from your projects."
   ]
  },
  {
   "cell_type": "markdown",
   "metadata": {},
   "source": [
    "## Visualization\n",
    "\n",
    "qvalue also offers a number of visualization options to assess your findings. Here is one example of the types of plots you can generate. \n",
    "<br>\n",
    "<br>\n",
    "Overall, these graphs show us how closely our estimate of the null hypothesis (that no genes are DE) resembles reality, how many genes are DE, and how many false positives we can expect from our q-value cut-off."
   ]
  },
  {
   "cell_type": "code",
   "execution_count": 6,
   "metadata": {},
   "outputs": [
    {
     "data": {
      "image/png": "[encoded data removed]",
      "text/plain": [
       "plot without title"
      ]
     },
     "metadata": {},
     "output_type": "display_data"
    }
   ],
   "source": [
    "options(repr.plot.width=6, repr.plot.height=5)\n",
    "plot(qobj)"
   ]
  },
  {
   "cell_type": "markdown",
   "metadata": {},
   "source": [
    "For a more specific application and interpretation of these or additional tools and visualizations for your own data, please find our contact information here https://www.cores.emory.edu/eicc/about/index.html"
   ]
  },
  {
   "cell_type": "markdown",
   "metadata": {},
   "source": [
    "Information about our R session is available below"
   ]
  },
  {
   "cell_type": "code",
   "execution_count": 10,
   "metadata": {},
   "outputs": [
    {
     "data": {
      "text/plain": [
       "R version 3.6.0 (2019-04-26)\n",
       "Platform: x86_64-w64-mingw32/x64 (64-bit)\n",
       "Running under: Windows 10 x64 (build 18362)\n",
       "\n",
       "Matrix products: default\n",
       "\n",
       "locale:\n",
       "[1] LC_COLLATE=English_United States.1252 \n",
       "[2] LC_CTYPE=English_United States.1252   \n",
       "[3] LC_MONETARY=English_United States.1252\n",
       "[4] LC_NUMERIC=C                          \n",
       "[5] LC_TIME=English_United States.1252    \n",
       "\n",
       "attached base packages:\n",
       "[1] stats     graphics  grDevices utils     datasets  methods   base     \n",
       "\n",
       "other attached packages:\n",
       "[1] qvalue_2.16.0\n",
       "\n",
       "loaded via a namespace (and not attached):\n",
       " [1] Rcpp_1.0.2       magrittr_1.5     splines_3.6.0    tidyselect_0.2.5\n",
       " [5] munsell_0.5.0    uuid_0.1-2       colorspace_1.4-1 R6_2.4.0        \n",
       " [9] rlang_0.4.0      stringr_1.4.0    plyr_1.8.4       dplyr_0.8.3     \n",
       "[13] tools_3.6.0      grid_3.6.0       gtable_0.3.0     htmltools_0.3.6 \n",
       "[17] lazyeval_0.2.2   digest_0.6.20    assertthat_0.2.1 tibble_2.1.3    \n",
       "[21] crayon_1.3.4     IRdisplay_0.7.0  reshape2_1.4.3   purrr_0.3.2     \n",
       "[25] ggplot2_3.2.1    repr_1.0.1       base64enc_0.1-3  IRkernel_1.0.2  \n",
       "[29] glue_1.3.1       evaluate_0.14    labeling_0.3     stringi_1.4.3   \n",
       "[33] pbdZMQ_0.3-3     compiler_3.6.0   pillar_1.4.2     scales_1.0.0    \n",
       "[37] jsonlite_1.6     pkgconfig_2.0.2 "
      ]
     },
     "metadata": {},
     "output_type": "display_data"
    }
   ],
   "source": [
    "sessionInfo()"
   ]
  },
  {
   "cell_type": "code",
   "execution_count": null,
   "metadata": {},
   "outputs": [],
   "source": []
  }
 ],
 "metadata": {
  "kernelspec": {
   "display_name": "R",
   "language": "R",
   "name": "ir"
  },
  "language_info": {
   "codemirror_mode": "r",
   "file_extension": ".r",
   "mimetype": "text/x-r-source",
   "name": "R",
   "pygments_lexer": "r",
   "version": "3.6.0"
  }
 },
 "nbformat": 4,
 "nbformat_minor": 2
}
