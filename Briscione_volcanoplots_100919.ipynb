{
 "cells": [
  {
   "cell_type": "markdown",
   "metadata": {},
   "source": [
    "# Briscione Volcano plot \n",
    "    10/10/19\n",
    "    Jessica Randall"
   ]
  },
  {
   "cell_type": "markdown",
   "metadata": {},
   "source": [
    "call the R packages to use, install them as necessary if you do not have them"
   ]
  },
  {
   "cell_type": "code",
   "execution_count": null,
   "metadata": {},
   "outputs": [],
   "source": [
    "library(EnhancedVolcano)\n",
    "library(DESeq2)"
   ]
  },
  {
   "cell_type": "markdown",
   "metadata": {},
   "source": [
    "Blighe K (2019). EnhancedVolcano: Publication-ready volcano plots with enhanced colouring and labeling. R package version 1.2.0, https://github.com/kevinblighe/EnhancedVolcano.\n",
    "\n",
    "Walkthrough available here: https://www.bioconductor.org/packages/release/bioc/vignettes/EnhancedVolcano/inst/doc/EnhancedVolcano.html"
   ]
  },
  {
   "cell_type": "markdown",
   "metadata": {},
   "source": [
    "Read in the data"
   ]
  },
  {
   "cell_type": "code",
   "execution_count": 123,
   "metadata": {
    "scrolled": true
   },
   "outputs": [
    {
     "data": {
      "text/html": [
       "<table>\n",
       "<caption>A data.frame: 6 × 6</caption>\n",
       "<thead>\n",
       "\t<tr><th></th><th scope=col>ProteinEN</th><th scope=col>Difference.DRD_Normal</th><th scope=col>p.value.DRD_Normal..Excel.</th><th scope=col>X.Logp.value.DRD_Normal..Proteus.</th><th scope=col>q.value.DRD_Normal..Proteus.</th><th scope=col>X.LogqvalueDRD_Normal..Excel.</th></tr>\n",
       "\t<tr><th></th><th scope=col>&lt;fct&gt;</th><th scope=col>&lt;dbl&gt;</th><th scope=col>&lt;dbl&gt;</th><th scope=col>&lt;dbl&gt;</th><th scope=col>&lt;dbl&gt;</th><th scope=col>&lt;dbl&gt;</th></tr>\n",
       "</thead>\n",
       "<tbody>\n",
       "\t<tr><th scope=row>Rpl38</th><td>Q52KP0</td><td> 0.9994381</td><td>0.000244104</td><td>0.9996479</td><td>0.000152921</td><td>3.815532617</td></tr>\n",
       "\t<tr><th scope=row>Th</th><td>TY3H  </td><td>-3.7223582</td><td>0.000755689</td><td>3.1216570</td><td>0.000000000</td><td>0.000000000</td></tr>\n",
       "\t<tr><th scope=row>Srm</th><td>Q8BSZ8</td><td> 0.7483292</td><td>0.001642733</td><td>2.7844330</td><td>0.677142857</td><td>0.169319698</td></tr>\n",
       "\t<tr><th scope=row>Tomm70a</th><td>Q3TSX8</td><td> 0.3720112</td><td>0.001964301</td><td>2.7067919</td><td>0.904418118</td><td>0.043630746</td></tr>\n",
       "\t<tr><th scope=row>Mccc2</th><td>B2RUK5</td><td> 0.4932375</td><td>0.002682950</td><td>2.5713874</td><td>0.806134969</td><td>0.093592239</td></tr>\n",
       "\t<tr><th scope=row>Hspa12a</th><td>HS12A </td><td>-0.2004204</td><td>0.003868267</td><td>2.4124836</td><td>0.987612308</td><td>0.005413506</td></tr>\n",
       "</tbody>\n",
       "</table>\n"
      ],
      "text/latex": [
       "A data.frame: 6 × 6\n",
       "\\begin{tabular}{r|llllll}\n",
       "  & ProteinEN & Difference.DRD\\_Normal & p.value.DRD\\_Normal..Excel. & X.Logp.value.DRD\\_Normal..Proteus. & q.value.DRD\\_Normal..Proteus. & X.LogqvalueDRD\\_Normal..Excel.\\\\\n",
       "  & <fct> & <dbl> & <dbl> & <dbl> & <dbl> & <dbl>\\\\\n",
       "\\hline\n",
       "\tRpl38 & Q52KP0 &  0.9994381 & 0.000244104 & 0.9996479 & 0.000152921 & 3.815532617\\\\\n",
       "\tTh & TY3H   & -3.7223582 & 0.000755689 & 3.1216570 & 0.000000000 & 0.000000000\\\\\n",
       "\tSrm & Q8BSZ8 &  0.7483292 & 0.001642733 & 2.7844330 & 0.677142857 & 0.169319698\\\\\n",
       "\tTomm70a & Q3TSX8 &  0.3720112 & 0.001964301 & 2.7067919 & 0.904418118 & 0.043630746\\\\\n",
       "\tMccc2 & B2RUK5 &  0.4932375 & 0.002682950 & 2.5713874 & 0.806134969 & 0.093592239\\\\\n",
       "\tHspa12a & HS12A  & -0.2004204 & 0.003868267 & 2.4124836 & 0.987612308 & 0.005413506\\\\\n",
       "\\end{tabular}\n"
      ],
      "text/markdown": [
       "\n",
       "A data.frame: 6 × 6\n",
       "\n",
       "| <!--/--> | ProteinEN &lt;fct&gt; | Difference.DRD_Normal &lt;dbl&gt; | p.value.DRD_Normal..Excel. &lt;dbl&gt; | X.Logp.value.DRD_Normal..Proteus. &lt;dbl&gt; | q.value.DRD_Normal..Proteus. &lt;dbl&gt; | X.LogqvalueDRD_Normal..Excel. &lt;dbl&gt; |\n",
       "|---|---|---|---|---|---|---|\n",
       "| Rpl38 | Q52KP0 |  0.9994381 | 0.000244104 | 0.9996479 | 0.000152921 | 3.815532617 |\n",
       "| Th | TY3H   | -3.7223582 | 0.000755689 | 3.1216570 | 0.000000000 | 0.000000000 |\n",
       "| Srm | Q8BSZ8 |  0.7483292 | 0.001642733 | 2.7844330 | 0.677142857 | 0.169319698 |\n",
       "| Tomm70a | Q3TSX8 |  0.3720112 | 0.001964301 | 2.7067919 | 0.904418118 | 0.043630746 |\n",
       "| Mccc2 | B2RUK5 |  0.4932375 | 0.002682950 | 2.5713874 | 0.806134969 | 0.093592239 |\n",
       "| Hspa12a | HS12A  | -0.2004204 | 0.003868267 | 2.4124836 | 0.987612308 | 0.005413506 |\n",
       "\n"
      ],
      "text/plain": [
       "        ProteinEN Difference.DRD_Normal p.value.DRD_Normal..Excel.\n",
       "Rpl38   Q52KP0     0.9994381            0.000244104               \n",
       "Th      TY3H      -3.7223582            0.000755689               \n",
       "Srm     Q8BSZ8     0.7483292            0.001642733               \n",
       "Tomm70a Q3TSX8     0.3720112            0.001964301               \n",
       "Mccc2   B2RUK5     0.4932375            0.002682950               \n",
       "Hspa12a HS12A     -0.2004204            0.003868267               \n",
       "        X.Logp.value.DRD_Normal..Proteus. q.value.DRD_Normal..Proteus.\n",
       "Rpl38   0.9996479                         0.000152921                 \n",
       "Th      3.1216570                         0.000000000                 \n",
       "Srm     2.7844330                         0.677142857                 \n",
       "Tomm70a 2.7067919                         0.904418118                 \n",
       "Mccc2   2.5713874                         0.806134969                 \n",
       "Hspa12a 2.4124836                         0.987612308                 \n",
       "        X.LogqvalueDRD_Normal..Excel.\n",
       "Rpl38   3.815532617                  \n",
       "Th      0.000000000                  \n",
       "Srm     0.169319698                  \n",
       "Tomm70a 0.043630746                  \n",
       "Mccc2   0.093592239                  \n",
       "Hspa12a 0.005413506                  "
      ]
     },
     "metadata": {},
     "output_type": "display_data"
    }
   ],
   "source": [
    "plotdata<-read.delim(\"volcanoplotdata.txt\", row.names=1)\n",
    "head(plotdata)"
   ]
  },
  {
   "cell_type": "markdown",
   "metadata": {},
   "source": [
    "Specify where gene names are in a 1 column matrix called lab"
   ]
  },
  {
   "cell_type": "code",
   "execution_count": 124,
   "metadata": {},
   "outputs": [],
   "source": [
    "lab<-rownames(plotdata)"
   ]
  },
  {
   "cell_type": "markdown",
   "metadata": {},
   "source": [
    "### Volcano Plot"
   ]
  },
  {
   "cell_type": "markdown",
   "metadata": {},
   "source": [
    "###### Parameter choices\n",
    "    plotdata is the name of the dataframe where the data are stored\n",
    "    lab is where the gene names are stored, these won't appear unless genes meet thresholds for significance\n",
    "    x is the name of the column where the data for the x-axis is coming from\n",
    "    y is the name of the column where the data for the y axis is coming from\n",
    "    xlim is the x-axis scale and it's from -3 to 3 \n",
    "    ylim is the y-axis scale and it's from 0 to 6\n",
    "    title of the graph is \"Difference Between DRD & Normal by p-values (unadj)\"\n",
    "    xlab and ylab are the x-axis and y-axis labels \n",
    "    pCutoff is the unadjusted threshold for significance, chosen by the PI\n",
    "    legend is the labels for the legend, they will appear only as there are data that meet those critera\n",
    "    legendPosition is where the legend appears on the graph\n",
    "    legendLabSize is the font size of the labels in the legend\n",
    "    legendIconSize is the size of the circles in the legend"
   ]
  },
  {
   "cell_type": "code",
   "execution_count": 140,
   "metadata": {},
   "outputs": [
    {
     "name": "stderr",
     "output_type": "stream",
     "text": [
      "Warning message in new_data_frame(list(yintercept = yintercept)):\n",
      "\"NaNs produced\"Warning message:\n",
      "\"Removed 1 rows containing missing values (geom_hline).\"Warning message in new_data_frame(list(yintercept = yintercept)):\n",
      "\"NaNs produced\"Warning message:\n",
      "\"Removed 1 rows containing missing values (geom_hline).\""
     ]
    },
    {
     "data": {
      "text/html": [
       "<strong>png:</strong> 2"
      ],
      "text/latex": [
       "\\textbf{png:} 2"
      ],
      "text/markdown": [
       "**png:** 2"
      ],
      "text/plain": [
       "png \n",
       "  2 "
      ]
     },
     "metadata": {},
     "output_type": "display_data"
    },
    {
     "data": {
      "image/png": "[encoded data removed]",
      "text/plain": [
       "plot without title"
      ]
     },
     "metadata": {},
     "output_type": "display_data"
    }
   ],
   "source": [
    "EnhancedVolcano(plotdata,\n",
    "    lab = lab,\n",
    "    x = \"Difference.DRD_Normal\",\n",
    "    y = \"p.value.DRD_Normal..Excel.\",\n",
    "    xlim = c(-3, 3),\n",
    "    ylim = c(0, 6),\n",
    "    title=\"Difference Between DRD & Normal by p-values (unadj)\",\n",
    "    xlab = bquote('Difference,'~Log[2]~ 'DRD vs. Normal'),\n",
    "    ylab = bquote(~-Log[10]~unadjusted~italic(P)),\n",
    "    pCutoff= -1.301029996,\n",
    "    legend= c('Not sig.', 'Welchs T-Test Difference', 'Unadjusted p-value', 'Welchs T-Test Difference & Unadjusted p-value'),\n",
    "    legendPosition= 'top',\n",
    "    legendLabSize=10,\n",
    "    legendIconSize=3.0)\n",
    "\n",
    "\n",
    "#export the plot to png\n",
    "volcanopng=png(\"Briscione_volcano_plot_101019.png\", width=700, height=700)\n",
    "EnhancedVolcano(plotdata,\n",
    "    lab = lab,\n",
    "    x = \"Difference.DRD_Normal\",\n",
    "    y = \"p.value.DRD_Normal..Excel.\",\n",
    "    xlim = c(-3, 3),\n",
    "    ylim = c(0, 6),\n",
    "    title=\"Difference Between DRD & Normal by p-values (unadj)\",\n",
    "    xlab = bquote('Difference,'~Log[2]~ 'DRD vs. Normal'),\n",
    "    ylab = bquote(~-Log[10]~unadjusted~italic(P)),\n",
    "    pCutoff= -1.301029996,\n",
    "    legend= c('Not sig.', 'Welchs T-Test Difference', 'Unadjusted p-value', 'Welchs T-Test Difference & Unadjusted p-value'),\n",
    "    legendPosition= 'top',\n",
    "    legendLabSize=10,\n",
    "    legendIconSize=3.0)\n",
    "dev.off()"
   ]
  },
  {
   "cell_type": "code",
   "execution_count": 141,
   "metadata": {},
   "outputs": [
    {
     "data": {
      "text/plain": [
       "R version 3.6.0 (2019-04-26)\n",
       "Platform: x86_64-w64-mingw32/x64 (64-bit)\n",
       "Running under: Windows 10 x64 (build 18362)\n",
       "\n",
       "Matrix products: default\n",
       "\n",
       "locale:\n",
       "[1] LC_COLLATE=English_United States.1252 \n",
       "[2] LC_CTYPE=English_United States.1252   \n",
       "[3] LC_MONETARY=English_United States.1252\n",
       "[4] LC_NUMERIC=C                          \n",
       "[5] LC_TIME=English_United States.1252    \n",
       "\n",
       "attached base packages:\n",
       "[1] parallel  stats4    stats     graphics  grDevices utils     datasets \n",
       "[8] methods   base     \n",
       "\n",
       "other attached packages:\n",
       " [1] DESeq2_1.24.0               SummarizedExperiment_1.14.1\n",
       " [3] DelayedArray_0.10.0         BiocParallel_1.18.1        \n",
       " [5] matrixStats_0.55.0          Biobase_2.44.0             \n",
       " [7] GenomicRanges_1.36.0        GenomeInfoDb_1.20.0        \n",
       " [9] IRanges_2.18.1              S4Vectors_0.22.0           \n",
       "[11] BiocGenerics_0.30.0         EnhancedVolcano_1.2.0      \n",
       "[13] ggrepel_0.8.1               ggplot2_3.2.1              \n",
       "\n",
       "loaded via a namespace (and not attached):\n",
       " [1] bit64_0.9-7            jsonlite_1.6           splines_3.6.0         \n",
       " [4] Formula_1.2-3          assertthat_0.2.1       latticeExtra_0.6-28   \n",
       " [7] blob_1.2.0             GenomeInfoDbData_1.2.1 RSQLite_2.1.2         \n",
       "[10] pillar_1.4.2           backports_1.1.4        lattice_0.20-38       \n",
       "[13] glue_1.3.1             uuid_0.1-2             digest_0.6.18         \n",
       "[16] RColorBrewer_1.1-2     XVector_0.24.0         checkmate_1.9.4       \n",
       "[19] colorspace_1.4-1       htmltools_0.3.6        Matrix_1.2-17         \n",
       "[22] XML_3.98-1.20          pkgconfig_2.0.3        genefilter_1.66.0     \n",
       "[25] zlibbioc_1.30.0        xtable_1.8-4           purrr_0.3.2           \n",
       "[28] scales_1.0.0           annotate_1.62.0        tibble_2.1.3          \n",
       "[31] htmlTable_1.13.2       withr_2.1.2            repr_1.0.1            \n",
       "[34] nnet_7.3-12            lazyeval_0.2.2         survival_2.44-1.1     \n",
       "[37] magrittr_1.5           crayon_1.3.4           memoise_1.1.0         \n",
       "[40] evaluate_0.14          foreign_0.8-72         tools_3.6.0           \n",
       "[43] data.table_1.12.2      stringr_1.4.0          locfit_1.5-9.1        \n",
       "[46] munsell_0.5.0          cluster_2.1.0          AnnotationDbi_1.46.1  \n",
       "[49] compiler_3.6.0         rlang_0.4.0            grid_3.6.0            \n",
       "[52] RCurl_1.95-4.12        pbdZMQ_0.3-3           IRkernel_1.0.2        \n",
       "[55] rstudioapi_0.10        htmlwidgets_1.3        bitops_1.0-6          \n",
       "[58] base64enc_0.1-3        labeling_0.3           gtable_0.3.0          \n",
       "[61] DBI_1.0.0              R6_2.4.0               gridExtra_2.3         \n",
       "[64] knitr_1.25             dplyr_0.8.3            bit_1.1-14            \n",
       "[67] zeallot_0.1.0          Hmisc_4.2-0            stringi_1.4.3         \n",
       "[70] IRdisplay_0.7.0        Rcpp_1.0.2             geneplotter_1.62.0    \n",
       "[73] vctrs_0.2.0            rpart_4.1-15           acepack_1.4.1         \n",
       "[76] tidyselect_0.2.5       xfun_0.9              "
      ]
     },
     "metadata": {},
     "output_type": "display_data"
    }
   ],
   "source": [
    "sessionInfo()"
   ]
  },
  {
   "cell_type": "code",
   "execution_count": null,
   "metadata": {},
   "outputs": [],
   "source": []
  }
 ],
 "metadata": {
  "kernelspec": {
   "display_name": "R",
   "language": "R",
   "name": "ir"
  },
  "language_info": {
   "codemirror_mode": "r",
   "file_extension": ".r",
   "mimetype": "text/x-r-source",
   "name": "R",
   "pygments_lexer": "r",
   "version": "3.6.0"
  }
 },
 "nbformat": 4,
 "nbformat_minor": 2
}
